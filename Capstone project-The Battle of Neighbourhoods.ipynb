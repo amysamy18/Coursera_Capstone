{
    "cells": [
        {
            "cell_type": "markdown",
            "metadata": {
                "collapsed": true
            },
            "source": "# CAPSTONE PROJECT-BATTLE OF NEIGHBOURHOOD"
        },
        {
            "cell_type": "markdown",
            "metadata": {},
            "source": "## Question1:Introduction to Business Problem"
        },
        {
            "cell_type": "markdown",
            "metadata": {},
            "source": "### Opening of a MNC Bank branch in one of the HNI residency location in Bangalore"
        },
        {
            "cell_type": "markdown",
            "metadata": {},
            "source": "###### Bangalore is the capital city of the state of Karnataka.\n\nThe economy of Bangalore contributes about 87% to the state of Karnataka.The majority of the city of Bangalore lies in the Bangalore Urban district of Karnataka and the surrounding rural areas are a part of the Bangalore Rural district. The region comprising the Bangalore Urban andRural districts is known as the Bangalore (region). The Government of Karnataka has carved out the new district of Ramanagara from the old Bangalore Rural district.The metro area population of Bangalore in 2020 was 12,327,000, a 3.74% increase from 2019. Bangalore has grown by 438,403 since 2015, which represents a 3.56% annual change.Bangalore has an estimated population of 12.34 million in its urban area in 2017, up from 8.5 million in 2011. It is now the 24th most populous city in the world.\n\nBengaluru is the third wealthiest city in India according to a study.Bengaluru boasts of a total wealth of USD 320 billion. The city is a home to 7,500 millionaires and 8 billionaires.\n\nMillionaires or high net worth individuals (HNWIs) refer to individuals with net assets of USD 1 million or more. Billionaries refer to individuals with net asset of USD 1 billion or more.\n\nHNI's in Bengaluru prefer to invest in various investment products,real estate,digital currecy etc.,which gives huge oppurtunities to financial institutions like banks.\n\nLooking at the current situation most of these ultra HNI's will prefer to work from home. So opening bank branch in one of these residency area will provide bank more oppurtunites to onboard such coustomers and cross sell multiple banking products.\n\n\n"
        },
        {
            "cell_type": "code",
            "execution_count": null,
            "metadata": {},
            "outputs": [],
            "source": ""
        }
    ],
    "metadata": {
        "kernelspec": {
            "display_name": "Python 3.7",
            "language": "python",
            "name": "python3"
        },
        "language_info": {
            "codemirror_mode": {
                "name": "ipython",
                "version": 3
            },
            "file_extension": ".py",
            "mimetype": "text/x-python",
            "name": "python",
            "nbconvert_exporter": "python",
            "pygments_lexer": "ipython3",
            "version": "3.7.10"
        }
    },
    "nbformat": 4,
    "nbformat_minor": 1
}