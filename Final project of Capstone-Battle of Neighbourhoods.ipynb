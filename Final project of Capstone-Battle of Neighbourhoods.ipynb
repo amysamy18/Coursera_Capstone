{
    "cells": [
        {
            "cell_type": "markdown",
            "metadata": {
                "collapsed": true
            },
            "source": "# Capstone Project- Battle of Neighborhoods"
        },
        {
            "cell_type": "markdown",
            "metadata": {},
            "source": "## Defineing a problem or an idea"
        },
        {
            "cell_type": "markdown",
            "metadata": {},
            "source": "### Opening of  MNC bank branch near high density Tech Parks of Bangalore"
        },
        {
            "cell_type": "markdown",
            "metadata": {},
            "source": "Tech parks are the cornerstone of the IT industry in Bangalore. They host hundreds of top companies who employ thousands and lakhs of employees. From IT staff to service staff, everybody benefits from tech parks.\n\nThere are numerous tech parks in every area of Bangalore that makes every area its own ecosystem with people living in the area without having to move to other parts of the city.\n\nBangalore likely has the most number of tech parks in a city compared to any other city in the country and it is truly the silicon valley of India. This is possible only because of its rich history in manufacturing with companies such as HAL and the founding of tech giants like Infosys.\n\nAs the current state of tech parks are feeling the pressure of unprecedented growth, it is highly likely that the current tech parks will be fully occupied in a matter of a few years.\n\nBangalore\u2019s growth potential is unlimited. With areas expanding across the city, there are opportunities for more builders to set-up big tech parks in other areas of Bangalore.\n\nIf Bangalore\u2019s infrastructure problems are fixed, then for the foreseeable future it is expected to retain the number one city for technology companies.\n\nSince the salary of the employees of the IT companies and IT enabled companies are on the higher side, hence it will help bank to acquire quality accounts and cross sale other banking products.\n\nTherefore opening bank branch near tech parks give wide business oppurtunity for that bank.\n"
        },
        {
            "cell_type": "markdown",
            "metadata": {},
            "source": "### DATA SELECTION"
        },
        {
            "cell_type": "code",
            "execution_count": 1,
            "metadata": {},
            "outputs": [
                {
                    "name": "stdout",
                    "output_type": "stream",
                    "text": "/opt/conda/envs/Python-3.7-main/lib/python3.7/site-packages/secretstorage/dhcrypto.py:16: CryptographyDeprecationWarning: int_from_bytes is deprecated, use int.from_bytes instead\n  from cryptography.utils import int_from_bytes\n/opt/conda/envs/Python-3.7-main/lib/python3.7/site-packages/secretstorage/util.py:25: CryptographyDeprecationWarning: int_from_bytes is deprecated, use int.from_bytes instead\n  from cryptography.utils import int_from_bytes\nCollecting bs4\n  Downloading bs4-0.0.1.tar.gz (1.1 kB)\nRequirement already satisfied: beautifulsoup4 in /opt/conda/envs/Python-3.7-main/lib/python3.7/site-packages (from bs4) (4.9.1)\nRequirement already satisfied: soupsieve>1.2 in /opt/conda/envs/Python-3.7-main/lib/python3.7/site-packages (from beautifulsoup4->bs4) (2.0.1)\nBuilding wheels for collected packages: bs4\n  Building wheel for bs4 (setup.py) ... \u001b[?25ldone\n\u001b[?25h  Created wheel for bs4: filename=bs4-0.0.1-py3-none-any.whl size=1272 sha256=9cecce279e8fcec4bcd01152eba1439327cda5363661662391a5b409a5cc806f\n  Stored in directory: /tmp/wsuser/.cache/pip/wheels/0a/9e/ba/20e5bbc1afef3a491f0b3bb74d508f99403aabe76eda2167ca\nSuccessfully built bs4\nInstalling collected packages: bs4\nSuccessfully installed bs4-0.0.1\n"
                }
            ],
            "source": "!pip install bs4\nimport pandas as pd\nimport requests\nfrom bs4 import BeautifulSoup\nimport numpy as np"
        },
        {
            "cell_type": "code",
            "execution_count": 3,
            "metadata": {},
            "outputs": [],
            "source": "#Data for list of Tech park in Bangalore\nurl=\"https://en.wikipedia.org/wiki/International_Tech_Park,_Bangalore\"\ndata=requests.get(url).text\nsoup=BeautifulSoup(data,\"html5lib\")\ntable=soup.find('table')\n\n"
        },
        {
            "cell_type": "code",
            "execution_count": null,
            "metadata": {},
            "outputs": [],
            "source": "#get all rows from the table\nfor row in table.find_all('tr'):\n    "
        }
    ],
    "metadata": {
        "kernelspec": {
            "display_name": "Python 3.7",
            "language": "python",
            "name": "python3"
        },
        "language_info": {
            "codemirror_mode": {
                "name": "ipython",
                "version": 3
            },
            "file_extension": ".py",
            "mimetype": "text/x-python",
            "name": "python",
            "nbconvert_exporter": "python",
            "pygments_lexer": "ipython3",
            "version": "3.7.10"
        }
    },
    "nbformat": 4,
    "nbformat_minor": 1
}